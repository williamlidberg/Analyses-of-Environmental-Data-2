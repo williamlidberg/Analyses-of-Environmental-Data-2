{
  "cells": [
    {
      "cell_type": "markdown",
      "metadata": {
        "id": "view-in-github",
        "colab_type": "text"
      },
      "source": [
        "<a href=\"https://colab.research.google.com/github/williamlidberg/Analyses-of-Environmental-Data-2/blob/main/modules/module_5/Assignment_5.ipynb\" target=\"_parent\"><img src=\"https://colab.research.google.com/assets/colab-badge.svg\" alt=\"Open In Colab\"/></a>"
      ]
    },
    {
      "cell_type": "markdown",
      "metadata": {
        "id": "UPUEe9re1NxX"
      },
      "source": [
        "# Analyse satellite imagery with Geemap\n",
        "Geemap is a Python tool that makes it easy for beginners to create interactive maps using Google Earth Engine (GEE). Google Earth Engine is like a powerful online library of satellite images and geographic data stored in the cloud. People in the field of geography and environmental science widely use it.\n",
        "\n",
        "Google Earth Engine has tools for programming in both JavaScript and Python. While the JavaScript tools have lots of helpful documentation and an interactive editor, the Python tools have less documentation and are not as user-friendly for visualizing results.\n",
        "\n",
        "That's where Geemap comes in. Geemap is a Python package that was made to bridge this gap. It uses ipyleaflet and ipywidgets to help you analyze and visualize data from Google Earth Engine in a more beginner-friendly way. You can easily work with geographic datasets and create interactive maps right in a Jupyter notebook. It's a handy tool for anyone wanting to explore and understand Earth observation data without diving too deep into complex coding."
      ]
    },
    {
      "cell_type": "markdown",
      "metadata": {
        "id": "3ec6Qm0K2Ci8"
      },
      "source": [
        "# Installation\n",
        "Geemap is preinstalled with google colab but you can install it using Pypip or anaconda as well:\\\n",
        "pip install geemap\\\n",
        "conda install geemap -c conda-forge\n",
        "\n",
        "Read the documentation for more info regarding installation on different systems: https://courses.geemap.org/geemap_intro/02_installation/#key-features"
      ]
    },
    {
      "cell_type": "markdown",
      "metadata": {
        "id": "je_MF9mB27dO"
      },
      "source": [
        "### Task 1 Setup\n",
        "To use geemap, you must first sign up for a Google Earth Engine account. You cannot use Google Earth Engine unless your application has been approved. Once you receive the application approval email. The next stepp is to run the code below and grant access for google colab to use your google account and google earth engine. If everything works as planned you should see an interractive map."
      ]
    },
    {
      "cell_type": "code",
      "execution_count": null,
      "metadata": {
        "id": "ayp7HV5TtrgS"
      },
      "outputs": [],
      "source": [
        "# Authenticate and initialize Google Earth Engine API\n",
        "import ee\n",
        "ee.Authenticate()\n",
        "\n",
        "# Change 'my-project' to your actual project\n",
        "ee.Initialize(project='ee-williamlidberg')"
      ]
    },
    {
      "cell_type": "markdown",
      "source": [
        "To check if everything is wokring run these lines. They should output a map."
      ],
      "metadata": {
        "id": "gJyVTAY_vuGH"
      }
    },
    {
      "cell_type": "code",
      "execution_count": null,
      "metadata": {
        "id": "s-pcak2100lK"
      },
      "outputs": [],
      "source": [
        "import geemap\n",
        "Map = geemap.Map()\n",
        "Map"
      ]
    },
    {
      "cell_type": "markdown",
      "metadata": {
        "id": "Wqouo8d55GfG"
      },
      "source": [
        "If you want a different basemap you can select one from the list."
      ]
    },
    {
      "cell_type": "code",
      "execution_count": null,
      "metadata": {
        "id": "ZNaiXUb15L9z"
      },
      "outputs": [],
      "source": [
        "for basemap in geemap.basemaps.keys():\n",
        "    print(basemap)"
      ]
    },
    {
      "cell_type": "markdown",
      "source": [
        "If you want to center the map on somewhere specific you can set the coordinates and zoom level with .setCenter(). Note that the coordinates are in long/lat. When you right click in google maps you get the coordinates in lat/long. If you want to translate the coordiantes from google maps simply switch the numbers around so 64.2, 20 becomes 20, 64.2"
      ],
      "metadata": {
        "id": "9Jsq21sJ53nP"
      }
    },
    {
      "cell_type": "code",
      "execution_count": null,
      "metadata": {
        "id": "8_s5dS7C5Sit"
      },
      "outputs": [],
      "source": [
        "Map = geemap.Map()\n",
        "Map.add_basemap('CartoDB.DarkMatter')\n",
        "Map.setCenter(20, 64.2, 5) # This is the coordinates in long/lat and the zoom level.\n",
        "Map"
      ]
    },
    {
      "cell_type": "markdown",
      "metadata": {
        "id": "NLr_BaBoEzM0"
      },
      "source": [
        "# Working with image collections\n",
        "Google earth engine comes with alot of large image series that you can use for your projects. The [sentinel 2 constellation](https://sentinels.copernicus.eu/web/sentinel/missions/sentinel-2/news/-/asset_publisher/Ac0d/content/sentinel-2-images-the-globe-every-5-days;jsessionid=2BC4823847466509FA382BB7ED954C47.jvm1?redirect=https%3A%2F%2Fsentinels.copernicus.eu%2Fweb%2Fsentinel%2Fmissions%2Fsentinel-2%2Fnews%3Bjsessionid%3D2BC4823847466509FA382BB7ED954C47.jvm1%3Fp_p_id%3D101_INSTANCE_Ac0d%26p_p_lifecycle%3D0%26p_p_state%3Dnormal%26p_p_mode%3Dview%26p_p_col_id%3Dcolumn-1%26p_p_col_count%3D1%26_101_INSTANCE_Ac0d_cur%3D4%26_101_INSTANCE_Ac0d_keywords%3D%26_101_INSTANCE_Ac0d_advancedSearch%3Dfalse%26_101_INSTANCE_Ac0d_delta%3D30%26_101_INSTANCE_Ac0d_andOperator%3Dtrue) allows every spot on Earth to be revisited every five days with the same viewing direction. However, the northern latutides are not imaged during the dark winter months.\n",
        "\n",
        "Sentinel 2 consists of 2 satellites. First came Sentinel 2A which was launched in 2015. Next came Sentinel 2b in 2017.\n",
        "\n",
        "Two additional satellites (Sentinel 2C and 2D) are planned to launch in 2024. This will make a total of four Sentinel-2 satellites.\n",
        "\n",
        "Sentinel 2 has many bands but the ones we are interested in in this module will be B2, B3 and B4. Blue, green and red."
      ]
    },
    {
      "cell_type": "markdown",
      "metadata": {
        "id": "JmREKFFJHGnb"
      },
      "source": [
        "| Band | Resolution | Wavelength | Description                        |\n",
        "|------|------------|------------|------------------------------------|\n",
        "| B1   | 60 m       | 443 nm     | Ultra Blue (Coastal and Aerosol)   |\n",
        "| B2   | 10 m       | 490 nm     | Blue                               |\n",
        "| B3   | 10 m       | 560 nm     | Green                              |\n",
        "| B4   | 10 m       | 665 nm     | Red                                |\n",
        "| B5   | 20 m       | 705 nm     | Visible and Near Infrared (VNIR)  |\n",
        "| B6   | 20 m       | 740 nm     | Visible and Near Infrared (VNIR)  |\n",
        "| B7   | 20 m       | 783 nm     | Visible and Near Infrared (VNIR)  |\n",
        "| B8   | 10 m       | 842 nm     | Visible and Near Infrared (VNIR)  |\n",
        "| B8a  | 20 m       | 865 nm     | Visible and Near Infrared (VNIR)  |\n",
        "| B9   | 60 m       | 940 nm     | Short Wave Infrared (SWIR)        |\n",
        "| B10  | 60 m       | 1375 nm    | Short Wave Infrared (SWIR)        |\n",
        "| B11  | 20 m       | 1610 nm    | Short Wave Infrared (SWIR)        |\n",
        "| B12  | 20 m       | 2190 nm    | Short Wave Infrared (SWIR)        |\n"
      ]
    },
    {
      "cell_type": "markdown",
      "metadata": {
        "id": "nsvubdXzHqbh"
      },
      "source": [
        "we can also limit the collection in space and time"
      ]
    },
    {
      "cell_type": "markdown",
      "metadata": {
        "id": "f9t9yDsGHzyX"
      },
      "source": [
        "### Select all images from last summer in Umeå"
      ]
    },
    {
      "cell_type": "code",
      "execution_count": null,
      "metadata": {
        "id": "o5yFMPmDGWw6"
      },
      "outputs": [],
      "source": [
        "# Set the coordinates for umeå as a boundig box.\n",
        "Umeå = ee.Geometry.Polygon(\n",
        "    [[[20.0695, 63.8608],\n",
        "      [20.3986, 63.8608],\n",
        "      [20.3986, 63.5922],\n",
        "      [20.0695, 63.5922]]])\n",
        "\n",
        "# Set the time interval\n",
        "start_date = '2023-07-01'\n",
        "end_date = '2023-07-31'\n",
        "\n",
        "# Filter the images based on place and time\n",
        "sentinel2 = (ee.ImageCollection('COPERNICUS/S2')\n",
        "             .filterBounds(Umeå)\n",
        "             .filterDate(ee.Date(start_date), ee.Date(end_date))\n",
        ")\n",
        "sentinel2"
      ]
    },
    {
      "cell_type": "markdown",
      "metadata": {
        "id": "QXrIx_o6LvEi"
      },
      "source": [
        "Since multiple images will overlap this time and region we need to do a selection on which images we want to display. One way to do it is to select the images with least cloud coverage."
      ]
    },
    {
      "cell_type": "code",
      "execution_count": null,
      "metadata": {
        "id": "OLkO0qikNODH"
      },
      "outputs": [],
      "source": [
        "# Get the least cloudy image\n",
        "image = sentinel2.sort('CLOUDY_PIXEL_PERCENTAGE').first()\n",
        "\n",
        "# Get the date of the image\n",
        "image_date = image.get('system:time_start')\n",
        "print(\"Image Date:\", ee.Date(image_date).format('YYYY-MM-dd').getInfo())\n"
      ]
    },
    {
      "cell_type": "markdown",
      "source": [
        "Let's inspect Umeå during a clear summer day"
      ],
      "metadata": {
        "id": "eiZauE3vw-mC"
      }
    },
    {
      "cell_type": "code",
      "execution_count": null,
      "metadata": {
        "id": "5CTOOCHyNa2f"
      },
      "outputs": [],
      "source": [
        "# Display the image on the map\n",
        "Map = geemap.Map()\n",
        "Map.setCenter(20.2630, 63.8258, 11) # This is the coordinates in long/lat and the zoom level\n",
        "\n",
        "Map.addLayer(image, {\n",
        "    'bands': ['B4', 'B3', 'B2'], # red, green, blue\n",
        "    'min': 0,\n",
        "    'max': 3000,\n",
        "    'gamma': 1.4\n",
        "}, 'RGB')\n",
        "\n",
        "# Display the map\n",
        "Map.addLayerControl()\n",
        "Map"
      ]
    },
    {
      "cell_type": "markdown",
      "metadata": {
        "id": "SZdVYXC4V-f8"
      },
      "source": [
        "### Task 2\n",
        "Use what you have learned so far and awnser the question. Could you skii in Umeå in September 2023?"
      ]
    },
    {
      "cell_type": "markdown",
      "source": [
        "# NDVI\n",
        "NDVI stands for \"Normalized Difference Vegetation Index.\" It is a vegetation index that quantifies the presence and health of vegetation in a given area based on the difference in reflectance between near-infrared and red bands of satellite or aerial imagery. NDVI values typically range -1 to 1, where higher values indicate healthier and more dense vegetation.\n",
        "\n",
        " Lets have a closer look at Gotland. First in color. Gotland is to large to fit into one image so we can create a mosaic dataset. Note that this is a speial kind of mosaic where each pixel is selected seperatly from all avalible images within the time window 2023-06-01 to 2023-09-30"
      ],
      "metadata": {
        "id": "3x7jF1fh7bix"
      }
    },
    {
      "cell_type": "code",
      "source": [
        "import ee\n",
        "import geemap\n",
        "\n",
        "Gotland = ee.Geometry.Polygon([\n",
        "    [18.743, 57.908],  # NW corner\n",
        "    [19.726, 57.908],  # NE corner\n",
        "    [19.726, 57],       # SE corner\n",
        "    [18.743, 57]        # SW corner\n",
        "])\n",
        "\n",
        "START_DATE = '2023-06-01'\n",
        "END_DATE = '2023-09-30'\n",
        "\n",
        "# Set cloud filtering parameters\n",
        "CLOUD_FILTER = 10  # Maximum cloud cover percentage\n",
        "CLD_PRB_THRESH = 10  # Cloud probability threshold\n",
        "NIR_DRK_THRESH = 0.15  # Near-infrared dark threshold\n",
        "\n",
        "sentinel2 = (ee.ImageCollection('COPERNICUS/S2')\n",
        "             .filterBounds(Gotland)\n",
        "             .filterDate(ee.Date(START_DATE), ee.Date(END_DATE))\n",
        "             .filter(ee.Filter.lt('CLOUDY_PIXEL_PERCENTAGE', CLOUD_FILTER))\n",
        "             .map(lambda image: image.updateMask(image.select(['QA60']).lt(CLD_PRB_THRESH)))\n",
        "             .map(lambda image: image.updateMask(image.select(['B8']).gt(NIR_DRK_THRESH)))\n",
        "            )\n",
        "\n",
        "# Create a cloud-free composite\n",
        "composite = sentinel2.reduce(ee.Reducer.median())\n",
        "\n",
        "Map = geemap.Map()\n",
        "Map.addLayer(composite, {\n",
        "    'bands': ['B4_median', 'B3_median', 'B2_median'], # This selects the median value from all cloud free pixels.\n",
        "    'min': 0,\n",
        "    'max': 3000,\n",
        "    'gamma': 1.4\n",
        "}, 'RGB Composite')\n",
        "Map.setCenter(18.4, 57.5, 10)\n",
        "Map.addLayerControl()\n",
        "Map\n"
      ],
      "metadata": {
        "id": "lAu_e_8087ht"
      },
      "execution_count": null,
      "outputs": []
    },
    {
      "cell_type": "markdown",
      "source": [
        "NDVI can be calculated by adding this line of code to the previous code: ndvi = composite.normalizedDifference(['B8_median', 'B4_median'])\n"
      ],
      "metadata": {
        "id": "5Fkg3nC098VE"
      }
    },
    {
      "cell_type": "code",
      "source": [
        "import ee\n",
        "import geemap\n",
        "\n",
        "Gotland = ee.Geometry.Polygon([\n",
        "    [18.743, 57.908],  # NW corner\n",
        "    [19.726, 57.908],  # NE corner\n",
        "    [19.726, 57],       # SE corner\n",
        "    [18.743, 57]        # SW corner\n",
        "])\n",
        "\n",
        "START_DATE = '2023-06-01'\n",
        "END_DATE = '2023-09-30'\n",
        "CLOUD_FILTER = 10  # Maximum cloud cover percentage\n",
        "CLD_PRB_THRESH = 10  # Cloud probability threshold\n",
        "NIR_DRK_THRESH = 0.15  # Near-infrared dark threshold\n",
        "\n",
        "sentinel2 = (ee.ImageCollection('COPERNICUS/S2')\n",
        "             .filterBounds(Gotland)\n",
        "             .filterDate(ee.Date(START_DATE), ee.Date(END_DATE))\n",
        "             .filter(ee.Filter.lt('CLOUDY_PIXEL_PERCENTAGE', CLOUD_FILTER))\n",
        "             .map(lambda image: image.updateMask(image.select(['QA60']).lt(CLD_PRB_THRESH)))\n",
        "             .map(lambda image: image.updateMask(image.select(['B8']).gt(NIR_DRK_THRESH)))\n",
        "            )\n",
        "\n",
        "composite = sentinel2.reduce(ee.Reducer.median())\n",
        "\n",
        "# Calculate NDVI\n",
        "ndvi = composite.normalizedDifference(['B8_median', 'B4_median'])\n",
        "\n",
        "Map = geemap.Map()\n",
        "Map.addLayer(ndvi, {\n",
        "    'palette': ['blue', 'white', 'green'],  # Adjust the palette from RGB to something more fitting NDVI\n",
        "    'min': -1,\n",
        "    'max': 1\n",
        "}, 'NDVI')\n",
        "\n",
        "Map.setCenter(18.4, 57.5, 15)\n",
        "Map.addLayerControl()\n",
        "Map\n"
      ],
      "metadata": {
        "id": "Owfud-pkm2Gh"
      },
      "execution_count": null,
      "outputs": []
    },
    {
      "cell_type": "markdown",
      "source": [
        "### Task 3\n",
        "Calculate NDVI for your home town/village for the summer of 2018"
      ],
      "metadata": {
        "id": "nqNrrM8l-gaU"
      }
    },
    {
      "cell_type": "markdown",
      "source": [
        "# Combine satellite images with other data\n",
        "To analyse the data in satellite imagery we often need to extract it to something we are interested in. It can be field plots, forest stands, wetlands ect. In this case we will use wetlands from Gotland which has been classified based on their \"nature value\". Start by downloading the wetland polygons as shapefiles from Naturvårdsverket."
      ],
      "metadata": {
        "id": "Dc0SYlB0_OjV"
      }
    },
    {
      "cell_type": "code",
      "execution_count": null,
      "metadata": {
        "id": "0Hd1bEcWNICn"
      },
      "outputs": [],
      "source": [
        "!wget https://geodata.naturvardsverket.se/nedladdning/VMI/ursprunglig_digitalisering/I_Gotland_VMI.zip\n",
        "!unzip /content/I_Gotland_VMI.zip"
      ]
    },
    {
      "cell_type": "markdown",
      "source": [
        "Inspect the data in the shapefile"
      ],
      "metadata": {
        "id": "9J3m3dk6xo_U"
      }
    },
    {
      "cell_type": "code",
      "execution_count": null,
      "metadata": {
        "id": "Qh89PUMMe7dB"
      },
      "outputs": [],
      "source": [
        "import geopandas as gpd\n",
        "gdf = gpd.read_file(\"/content/I_Gotland_VMI_Ytor.shp\")\n",
        "gdf"
      ]
    },
    {
      "cell_type": "markdown",
      "source": [
        "This dataset has some issues with naming where letters like å,ö and ä are used. Instead of inspecting all columns and fixing issues we can just select the column we are interested in and drop the rest."
      ],
      "metadata": {
        "id": "j90dD6JpB25N"
      }
    },
    {
      "cell_type": "code",
      "source": [
        "gdf = gdf[gdf.geom_type == 'Polygon'] # drop all fatures that are not polygons\n",
        "gdf = gdf[['NVKLASS', 'geometry']].copy() # copy the columns to keep\n",
        "\n",
        "# Translate the swedish names to english names to avoid symbols like å, ö ,ä.\n",
        "value_mapping = {'Låga naturvärden':'Low nature values','Vissa naturvärden':'Some nature values', 'Högt naturvärde':'High Nature value', 'Mycket högt naturvärde': 'Very high nature values'}\n",
        "gdf['NVKLASS'] = gdf['NVKLASS'].replace(value_mapping)\n",
        "#gdf = gdf.iloc[:100, :]\n",
        "#save to new shapefile\n",
        "gdf.to_file(\"/content/I_Gotland_VMI_Ytor_clean.shp\")"
      ],
      "metadata": {
        "id": "BWz58jLE3geD"
      },
      "execution_count": null,
      "outputs": []
    },
    {
      "cell_type": "markdown",
      "source": [
        "Now we can load the cleaned shapefile into geemap by converting it to a format that google earth engine can handle using shp_to_ee. In order to do that you first need to install pycrs"
      ],
      "metadata": {
        "id": "dkjTerfHx04w"
      }
    },
    {
      "cell_type": "code",
      "source": [
        "!pip install pycrs"
      ],
      "metadata": {
        "id": "GLO-ndaJ_oEu"
      },
      "execution_count": null,
      "outputs": []
    },
    {
      "cell_type": "markdown",
      "source": [
        "Lets start by just overlaying the poygons on a map to see if the look ok after our data cleaning"
      ],
      "metadata": {
        "id": "EW6oJSpkP-m0"
      }
    },
    {
      "cell_type": "code",
      "source": [
        "import ee\n",
        "import geemap\n",
        "\n",
        "Map = geemap.Map()\n",
        "wetlands_shp = \"/content/I_Gotland_VMI_Ytor_clean.shp\" # cleaned shapefile\n",
        "#wetlands = geemap.shp_to_ee(wetlands_shp, encoding='latin-1')\n",
        "wetlands = geemap.shp_to_ee(wetlands_shp) # convert to earth engine polygon\n",
        "Map.add_basemap('CartoDB.DarkMatter')\n",
        "\n",
        "# Define a style for the polygons\n",
        "style = {\n",
        "    'color': '#00FFFF',  # Cyan works great on a dark map.\n",
        "    'fillColor': '#00FFFF',\n",
        "    'width': 1,\n",
        "}\n",
        "\n",
        "# Map wetlands with style.\n",
        "Map.addLayer(wetlands, style, \"Wetlands\")\n",
        "Map.setCenter(18.4, 57.5, 9)\n",
        "Map.addLayerControl()\n",
        "Map"
      ],
      "metadata": {
        "id": "8Ow-oOCsQeAn"
      },
      "execution_count": null,
      "outputs": []
    },
    {
      "cell_type": "markdown",
      "source": [
        "# Extract raster values to polygons\n",
        "Now you have seen how to extract NDVI and how to import polygons to geemap. Lets combine the two and extract NDVI values for these wetlands for further analysis. Start by creating a mosaic of NDVI for Gotland."
      ],
      "metadata": {
        "id": "eNnuy3-QA60w"
      }
    },
    {
      "cell_type": "code",
      "source": [
        "import ee\n",
        "import geemap\n",
        "import geopandas as gpd\n",
        "\n",
        "Gotland = ee.Geometry.Polygon([\n",
        "    [18.743, 57.908],  # NW corner\n",
        "    [19.726, 57.908],  # NE corner\n",
        "    [19.726, 57],       # SE corner\n",
        "    [18.743, 57]        # SW corner\n",
        "])\n",
        "\n",
        "# Set the time interval\n",
        "START_DATE = '2023-06-01'\n",
        "END_DATE = '2023-08-30'\n",
        "CLOUD_FILTER = 10  # Maximum cloud cover percentage\n",
        "CLD_PRB_THRESH = 10  # Cloud probability threshold\n",
        "NIR_DRK_THRESH = 0.15  # Near-infrared dark threshold\n",
        "\n",
        "sentinel2 = (ee.ImageCollection('COPERNICUS/S2')\n",
        "             .filterBounds(Gotland)\n",
        "             .filterDate(ee.Date(START_DATE), ee.Date(END_DATE))\n",
        "             .filter(ee.Filter.lt('CLOUDY_PIXEL_PERCENTAGE', CLOUD_FILTER))\n",
        "             .map(lambda image: image.updateMask(image.select(['QA60']).lt(CLD_PRB_THRESH)))\n",
        "             .map(lambda image: image.updateMask(image.select(['B8']).gt(NIR_DRK_THRESH)))\n",
        "            )\n",
        "composite = sentinel2.reduce(ee.Reducer.median())\n",
        "# NDVI\n",
        "ndvi = composite.normalizedDifference(['B8_median', 'B4_median'])\n",
        "\n",
        "# Wetlands\n",
        "wetlands_shp = \"/content/I_Gotland_VMI_Ytor_clean.shp\"\n",
        "wetlands = geemap.shp_to_ee(wetlands_shp, encoding='latin-1')\n",
        "\n",
        "# Extract mean NDVI on wetlands\n",
        "ndvi_stats = ndvi.reduceRegions(\n",
        "    collection=wetlands,\n",
        "    reducer=ee.Reducer.mean(),  # You can change the reducer as needed (mean, median, etc.)\n",
        "    scale=10  # sentinell two images have a 10 meter resolution for the bands used for NDVI\n",
        ")\n",
        "\n",
        "# Convert the result to a GeoDataFrame\n",
        "features = ndvi_stats.getInfo()['features']\n",
        "ndvi_gdf = gpd.GeoDataFrame.from_features(features)"
      ],
      "metadata": {
        "id": "4DBrKEcg05iG"
      },
      "execution_count": null,
      "outputs": []
    },
    {
      "cell_type": "markdown",
      "source": [
        "We can now properly analyse the data. Here is a quick plot of mean ndvi on wetlands split on nature value."
      ],
      "metadata": {
        "id": "ORvtAkUADxxC"
      }
    },
    {
      "cell_type": "code",
      "source": [
        "import seaborn as sns\n",
        "import matplotlib.pyplot as plt\n",
        "\n",
        "plt.figure(figsize=(12, 8))\n",
        "sns.violinplot(x='NVKLASS', y='mean', data=ndvi_gdf, palette='Dark2')\n",
        "plt.title('NDVI from wetlands on Gotland from summer 2023')\n",
        "plt.xlabel('Nature Class')\n",
        "plt.ylabel('Mean NDVI')\n",
        "plt.show()\n"
      ],
      "metadata": {
        "id": "BP1Htx-eZ-Tw"
      },
      "execution_count": null,
      "outputs": []
    },
    {
      "cell_type": "markdown",
      "source": [
        "# Time series\n",
        "One cool thing with satellites is the temporal aspect which allows us to follow environmental change over time. This requires a bit more work but lets walk through it. Lets limit the analysis to 500 randomly sampled wetlands to save time."
      ],
      "metadata": {
        "id": "26wLuweBEWtD"
      }
    },
    {
      "cell_type": "code",
      "source": [
        "import geopandas as gpd\n",
        "gdf = gpd.read_file(\"/content/I_Gotland_VMI_Ytor_clean.shp\")\n",
        "sampled_geodf = gdf.sample(n=500, random_state=42)\n",
        "sampled_geodf.to_file(\"/content/sampled_wetlands.shp\")"
      ],
      "metadata": {
        "id": "GgwX3ysdGTTn"
      },
      "execution_count": null,
      "outputs": []
    },
    {
      "cell_type": "markdown",
      "source": [
        "Next lets start with the first half of the code which is the same as before."
      ],
      "metadata": {
        "id": "8jGaVSkcgzZ8"
      }
    },
    {
      "cell_type": "code",
      "source": [
        "import ee\n",
        "import geemap\n",
        "import geopandas as gpd\n",
        "\n",
        "# Define Gotland geometry\n",
        "Gotland = ee.Geometry.Polygon([\n",
        "  [18.743, 57.908],  # NW corner\n",
        "  [19.726, 57.908],  # NE corner\n",
        "  [19.726, 57],      # SE corner\n",
        "  [18.743, 57]       # SW corner\n",
        "])\n",
        "\n",
        "# Set parameters\n",
        "START_YEAR = 2023\n",
        "END_YEAR = 2023\n",
        "\n",
        "# Cloud filtering\n",
        "CLOUD_FILTER = 10  # Maximum cloud cover percentage\n",
        "CLD_PRB_THRESH = 10  # Cloud probability threshold\n",
        "NIR_DRK_THRESH = 0.15  # Near-infrared dark threshold\n",
        "\n",
        "def filter_monthly_sentinel2(month):\n",
        "  \"\"\"Filters Sentinel-2 data for a specific month\"\"\"\n",
        "  start_date = ee.Date(f'{START_YEAR}-{month}-01')\n",
        "  end_date = start_date.advance(1, 'month')\n",
        "  return (\n",
        "      ee.ImageCollection('COPERNICUS/S2')\n",
        "      .filterBounds(Gotland)\n",
        "      .filterDate(start_date, end_date)\n",
        "      .filter(ee.Filter.lt('CLOUDY_PIXEL_PERCENTAGE', CLOUD_FILTER))\n",
        "      .map(lambda image: image.updateMask(image.select(['QA60']).lt(CLD_PRB_THRESH)))\n",
        "      .map(lambda image: image.updateMask(image.select(['B8']).gt(NIR_DRK_THRESH)))\n",
        "  )\n",
        "\n",
        "# Load wetland shapefile\n",
        "wetlands_shp = \"/content/sampled_wetlands.shp\"\n",
        "wetlands = geemap.shp_to_ee(wetlands_shp, encoding='latin-1')"
      ],
      "metadata": {
        "id": "jSprPC0SauwK"
      },
      "execution_count": null,
      "outputs": []
    },
    {
      "cell_type": "markdown",
      "source": [
        "Next you need to specify which months that you are interested in and then loop over ndvi mosaics for each month. This step takes a few minutes."
      ],
      "metadata": {
        "id": "xF7Rni7jawF1"
      }
    },
    {
      "cell_type": "code",
      "source": [
        "monthly_ndvi = []\n",
        "start_month = 1\n",
        "end_month = 12\n",
        "month_names = [f\"{START_YEAR}-{m:02d}\" for m in range(start_month, end_month)]\n",
        "for month in range(start_month, end_month):\n",
        "  # Filter Sentinel-2 data for the month\n",
        "  monthly_images = filter_monthly_sentinel2(month)\n",
        "\n",
        "  # Calculate monthly NDVI composite\n",
        "  monthly_composite = monthly_images.reduce(ee.Reducer.median())\n",
        "  monthly_ndvi.append(monthly_composite.normalizedDifference(['B8_median', 'B4_median']))\n",
        "\n",
        "# Extract NDVI statistics per wetland for each month\n",
        "ndvi_stats_list = []\n",
        "for i, ndvi_image in enumerate(monthly_ndvi):\n",
        "  ndvi_stats = ndvi_image.reduceRegions(\n",
        "      collection=wetlands,\n",
        "      reducer=ee.Reducer.mean(),  # You can change the reducer as needed\n",
        "      scale=10\n",
        "  )\n",
        "  ndvi_stats_list.append(ndvi_stats.getInfo()['features'])\n",
        "\n",
        "# Combine monthly NDVI stats into a single GeoDataFrame\n",
        "all_features = []\n",
        "for month_data in ndvi_stats_list:\n",
        "  all_features.extend(month_data)\n",
        "\n",
        "ndvi_gdf = gpd.GeoDataFrame.from_features(all_features)\n",
        "\n",
        "\n",
        "\n",
        "# Add a column for month\n",
        "ndvi_gdf['month'] = None  # Initialize the month column\n",
        "\n",
        "for i, row in ndvi_gdf.iterrows():\n",
        "  # Use modulo (%) to handle cases with more months than data points\n",
        "  month_index = i % len(month_names)\n",
        "  ndvi_gdf.at[i, 'month'] = month_names[month_index]\n",
        "\n",
        "ndvi_gdf"
      ],
      "metadata": {
        "id": "Cmy50psGg7S1"
      },
      "execution_count": null,
      "outputs": []
    },
    {
      "cell_type": "markdown",
      "source": [
        "Now we have a dataframe to analyse further. Time series of NDVI values can be used as input for machine learning models to extract spatiotemporal patterns from the data."
      ],
      "metadata": {
        "id": "o7pZVXPAl44P"
      }
    },
    {
      "cell_type": "code",
      "source": [
        "import seaborn as sns\n",
        "import matplotlib.pyplot as plt\n",
        "\n",
        "plt.figure(figsize=(12, 8))\n",
        "sns.boxplot(x=\"month\", y=\"mean\", hue='NVKLASS', data=ndvi_gdf, palette='Dark2')\n",
        "plt.title('NDVI in wetlands with very high nature value')\n",
        "plt.xlabel('Month')\n",
        "plt.ylabel('Mean NDVI')\n",
        "plt.show()"
      ],
      "metadata": {
        "id": "Rrsl2k2lkdY_"
      },
      "execution_count": null,
      "outputs": []
    },
    {
      "cell_type": "markdown",
      "source": [
        "Since this is temporal data we can reuse some code from assignment three to create animated plots. Start by installing chart studio."
      ],
      "metadata": {
        "id": "sxwfD5v6sHNx"
      }
    },
    {
      "cell_type": "code",
      "source": [
        "!pip install chart_studio"
      ],
      "metadata": {
        "id": "twagwb3RmWCL"
      },
      "execution_count": null,
      "outputs": []
    },
    {
      "cell_type": "markdown",
      "source": [
        "Notice how the shapes changes over time and pay attention to the behaviour of Wetlands with low nature values compared to the others."
      ],
      "metadata": {
        "id": "TgZ_6lrTrFrD"
      }
    },
    {
      "cell_type": "code",
      "source": [
        "import plotly.express as px\n",
        "\n",
        "df = px.data.gapminder()\n",
        "\n",
        "fig = px.violin(ndvi_gdf, x=\"NVKLASS\", y=\"mean\", color=\"NVKLASS\",\n",
        "  animation_frame=\"month\", animation_group=\"NVKLASS\", range_y=[-0.2,1],template=\"plotly_dark\")\n",
        "\n",
        "\n",
        "fig.show()"
      ],
      "metadata": {
        "id": "covz8KEDmeAO"
      },
      "execution_count": null,
      "outputs": []
    },
    {
      "cell_type": "markdown",
      "source": [
        "### Task 4\n",
        "Select another part of Sweden and see if the wetlands behave differently from wetlands on Gotland based on NDVI values.\n",
        "\n",
        "you will find other parts of Sweden here: https://geodata.naturvardsverket.se/nedladdning/VMI/ursprunglig_digitalisering/\n",
        "\n",
        "If the datasize is to big you can randomly sample fewer wetlands. Remember that we used about 500 wetlands so far."
      ],
      "metadata": {
        "id": "itc5uMulrYYT"
      }
    },
    {
      "cell_type": "markdown",
      "metadata": {
        "id": "VmZ5IvH16efZ"
      },
      "source": [
        "# Spy on my house or the Russian navy\n",
        "This segment is only for inspiration and there are no more tasks to complete in this module.\n",
        "\n",
        "While developing this module I also built a side project for my kids where they can follow the spring from space using satellite imagery. It's a small script that runs on a Rasberry pi and simply pulls the latest satellite imagery of our village every day and displays it on a old monitor that I set up in our kitchen. You can use this for anything from onitoring ships in an haurbor or active vulcanos. This is what you need:\n",
        "\n",
        "\n",
        "\n",
        "\n",
        "\n",
        "*   Some easily impressed kids.\n",
        "*   An old monitor.\n",
        "*   An old computer or something equalent to Rasberry pi.\n",
        "*   An idea of what to spy on.\n",
        "\n",
        "Modify the code bellow so the coordiantes covers the area you want to spy on.\n",
        "Copy the code and save it to a script that you call something like \"spy.py\" Run the scipt. The while loop will look for the latest satellite imagery once every day and then display that image on the monitor."
      ]
    },
    {
      "cell_type": "code",
      "source": [
        "import ee\n",
        "import geemap\n",
        "import matplotlib.pyplot as plt\n",
        "from datetime import datetime, timedelta\n",
        "import time\n",
        "\n",
        "# Authenticate and initialize Google Earth Engine API\n",
        "ee.Authenticate()\n",
        "\n",
        "# Change 'my-project' to your actual project\n",
        "ee.Initialize(project='ee-williamlidberg')\n",
        "\n",
        "# Set the location (bounding box)\n",
        "roi = ee.Geometry.Rectangle([19.75, 63.9, 20, 64.03])\n",
        "\n",
        "# Define the number of days to look back\n",
        "num_days_to_look_back = 5\n",
        "plt.figure(figsize=(20, 20))\n",
        "\n",
        "while True:  # Run indefinitely\n",
        "    latest_image = None\n",
        "    latest_acquisition_time = None\n",
        "    for i in range(num_days_to_look_back):\n",
        "        start_date = datetime.today() - timedelta(days=i + 1)\n",
        "        end_date = datetime.today() - timedelta(days=i)\n",
        "        collection = (ee.ImageCollection('COPERNICUS/S2')\n",
        "                      .filterBounds(roi)\n",
        "                      .filterDate(start_date, end_date)\n",
        "                      .sort('system:time_start', False)  # Sort in descending order to get the latest image first\n",
        "                      )\n",
        "        # Get the latest image for the current day\n",
        "        image = collection.first()\n",
        "        if image.getInfo():\n",
        "            image_array = geemap.ee_to_numpy(image.select(['B4', 'B3', 'B2']).divide(4000), region=roi)\n",
        "            if image_array.size > 0:\n",
        "                latest_image = image\n",
        "                latest_acquisition_time = ee.Date(image.get('system:time_start')).format('YYYY-MM-dd HH:mm:ss').getInfo()\n",
        "    # Check if the latest image and acquisition time are available\n",
        "    if latest_image is not None and latest_acquisition_time is not None:\n",
        "        center = roi.centroid().coordinates().reverse().getInfo()\n",
        "        zoom = 12  # Adjust the zoom level as needed\n",
        "\n",
        "        plt.clf()\n",
        "        image_array = geemap.ee_to_numpy(latest_image.select(['B4', 'B3', 'B2']).divide(4000), region=roi)\n",
        "        if image_array.size > 0:\n",
        "            plt.imshow(image_array, vmin=0, vmax=0.4, aspect='equal')\n",
        "            plt.title(f'True Color Image - {latest_acquisition_time}')\n",
        "            plt.axis('off')\n",
        "\n",
        "        print(f'Acquisition Time of the Latest Image: {latest_acquisition_time}')\n",
        "        plt.pause(1)\n",
        "        print('Updated image')\n",
        "\n",
        "    time.sleep(86400) # number of seconds in a day\n"
      ],
      "metadata": {
        "id": "cwybOV6kwlrx"
      },
      "execution_count": null,
      "outputs": []
    },
    {
      "cell_type": "markdown",
      "metadata": {
        "id": "XVAN3Eub1jzJ"
      },
      "source": [
        "## References\n",
        "  * Wu, Q., (2020). geemap: A Python package for interactive mapping with Google Earth Engine. The Journal of Open Source Software, 5(51), 2305. https://doi.org/10.21105/joss.02305\n",
        "  * Wu, Q., Lane, C. R., Li, X., Zhao, K., Zhou, Y., Clinton, N., DeVries, B., Golden, H. E., & Lang, M. W. (2019). Integrating LiDAR data and multi-temporal aerial imagery to map wetland inundation dynamics using Google Earth Engine. Remote Sensing of Environment, 228, 1-13. https://doi.org/10.1016/j.rse.2019.04.015 (pdf | source code)"
      ]
    }
  ],
  "metadata": {
    "colab": {
      "provenance": [],
      "authorship_tag": "ABX9TyNDISUEEyYSjjsD57fzpGQ2",
      "include_colab_link": true
    },
    "kernelspec": {
      "display_name": "Python 3",
      "name": "python3"
    },
    "language_info": {
      "name": "python"
    }
  },
  "nbformat": 4,
  "nbformat_minor": 0
}