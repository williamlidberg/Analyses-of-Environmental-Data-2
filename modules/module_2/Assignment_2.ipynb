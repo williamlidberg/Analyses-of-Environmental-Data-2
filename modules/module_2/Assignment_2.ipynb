{
  "nbformat": 4,
  "nbformat_minor": 0,
  "metadata": {
    "colab": {
      "provenance": [],
      "include_colab_link": true
    },
    "kernelspec": {
      "name": "python3",
      "display_name": "Python 3"
    },
    "language_info": {
      "name": "python"
    }
  },
  "cells": [
    {
      "cell_type": "markdown",
      "metadata": {
        "id": "view-in-github",
        "colab_type": "text"
      },
      "source": [
        "<a href=\"https://colab.research.google.com/github/williamlidberg/Analyses-of-Environmental-Data-2/blob/main/modules/module_2/Assignment_2.ipynb\" target=\"_parent\"><img src=\"https://colab.research.google.com/assets/colab-badge.svg\" alt=\"Open In Colab\"/></a>"
      ]
    },
    {
      "cell_type": "markdown",
      "source": [
        "# Introduction to Python\n",
        "In assignment 1 you set up your python envrionment and ran some code using a jupyter notebook. This assignment will assume that you completed assingment one and know how to use jupyter notebooks. This module will teach you some basic concepts of programing in python but with a very limited scope. There is so much more to learn and I hope that you will never stop learning."
      ],
      "metadata": {
        "id": "2S4mRo2HCMKk"
      }
    },
    {
      "cell_type": "markdown",
      "source": [
        "### Packages\n",
        "One of the secrets behind programing is to avoid reinventing the wheel. Python has a rich library of packages just like R. When presented with a problem take a minute to google what relevant python packages to use before you start writing everything from scratch. To install packages you use the command pip install. For example. To install pandas write pip install pandas in the terminal. If you are inside a jupyter notebook you can use the command ! infront of pip to show the notebook that it is a terminal command. If you run this in google colab you will get a number of \"Requirement already satisfied\" messenges. This means that pandas is already installed."
      ],
      "metadata": {
        "id": "2WoTPr0kEONH"
      }
    },
    {
      "cell_type": "code",
      "source": [
        "!pip install pandas"
      ],
      "metadata": {
        "id": "Fk1xx7DHhzuI"
      },
      "execution_count": null,
      "outputs": []
    },
    {
      "cell_type": "markdown",
      "source": [
        "When you want to use a package you first have to import it. When importing packages with long names it can be convinet to name them. This does not change the functionallity but it can be a bit confusing when looking for help online. The following two cells does the same thing."
      ],
      "metadata": {
        "id": "xtITf72Oh8kZ"
      }
    },
    {
      "cell_type": "code",
      "source": [
        "import pandas\n",
        "housing_data = pandas.read_csv('/content/sample_data/california_housing_train.csv')\n",
        "housing_data"
      ],
      "metadata": {
        "id": "DH66NJoMiHkY"
      },
      "execution_count": null,
      "outputs": []
    },
    {
      "cell_type": "code",
      "source": [
        "import pandas as pd\n",
        "housing_data = pd.read_csv('/content/sample_data/california_housing_train.csv')\n",
        "housing_data"
      ],
      "metadata": {
        "id": "-wsY1UbEin17"
      },
      "execution_count": null,
      "outputs": []
    },
    {
      "cell_type": "markdown",
      "source": [
        "### Task 1\n",
        "Install seaborn and use it to make a scatter plot with longitude and latitude from the housing data. Color the points by median_house_value and explain where you will find the most expensive houses in Califorina. Feel free to use google or an LLM."
      ],
      "metadata": {
        "id": "lz8MdkHyeY9i"
      }
    },
    {
      "cell_type": "markdown",
      "source": [
        "### Indentation\n",
        "One of the major pitfalls for a beginner is to mess up indentation, since Python uses indentation to define code segments. Indentation can be done using either spaces or tabs, however the official convention is to use 4 spaces. The important thing is to be consistent throughout your code, so just pick one and stick with it. I am a tab person myself. Attention to proper indentation is critical to ensure that your code works."
      ],
      "metadata": {
        "id": "0tcEREusDTfo"
      }
    },
    {
      "cell_type": "code",
      "source": [
        "some_value = 3\n",
        "some_other_value = 5.3\n",
        "\n",
        "if some_value > some_other_value:\n",
        "  print('Eat fish')\n",
        "else:\n",
        "  print('Do not eat fish')"
      ],
      "metadata": {
        "id": "oy3Eaxskj3rr"
      },
      "execution_count": null,
      "outputs": []
    },
    {
      "cell_type": "markdown",
      "source": [
        "### Strings\n",
        "Did you notice that I wrote Eath fish and Do not eat fish inside '' symbols. This indicates to python that the text inside is a string. Strings are used to represent text data in Python and are immutable, meaning their contents cannot be changed after they are created. You can check the data type of your variables by using type().\n",
        "\n"
      ],
      "metadata": {
        "id": "NYOFrh9zEVl5"
      }
    },
    {
      "cell_type": "code",
      "source": [
        "myname = 'william'\n",
        "type(myname)"
      ],
      "metadata": {
        "id": "kaNr-210k5Xw"
      },
      "execution_count": null,
      "outputs": []
    },
    {
      "cell_type": "markdown",
      "source": [
        "Use type to check what datatype some_value and some_other_value are."
      ],
      "metadata": {
        "id": "NjtBQLFxlkWY"
      }
    },
    {
      "cell_type": "markdown",
      "source": [
        "### Lists\n",
        "Python lists offer flexibility and are widely used due to their ability to store collections of items. Lists are an essential part of Python programming and are extensively used in processing large amounts of data."
      ],
      "metadata": {
        "id": "KMOoll2BEaZ_"
      }
    },
    {
      "cell_type": "code",
      "source": [
        "my_first_list = [some_value, some_other_value, 'Eat fish', 'Do not eat fish']\n",
        "my_first_list"
      ],
      "metadata": {
        "id": "-wjk9NjtmNbP"
      },
      "execution_count": null,
      "outputs": []
    },
    {
      "cell_type": "markdown",
      "source": [
        "You can select items from lists and add them to a new list using []. Note that lists starts from 0 not 1. The first item in a list is in position [0]."
      ],
      "metadata": {
        "id": "uSsH3NlQmf1j"
      }
    },
    {
      "cell_type": "code",
      "source": [
        "my_first_item = my_first_list[0]\n",
        "my_first_item"
      ],
      "metadata": {
        "id": "0pC_TWNcmmrU"
      },
      "execution_count": null,
      "outputs": []
    },
    {
      "cell_type": "markdown",
      "source": [
        "One of my favorite use of lists is to list files in a folder. This can be especially usefull when processing large amounts of data and you cant sit and scroll through a directory. Lets list all files in a directory. In this example I will use a directory in google colab but you can use one on your own computer as well.\n",
        "\n",
        "I will first import the os module and a function called listdir which lists all items in a directory. Note that the path to the directory is a string here. When you copy a path on windows the / will be \\. sometimes you will need to change from \\ to /."
      ],
      "metadata": {
        "id": "ELdFYAgbmNzI"
      }
    },
    {
      "cell_type": "code",
      "source": [
        "import os\n",
        "list_of_files = os.listdir('/content/sample_data')\n",
        "list_of_files"
      ],
      "metadata": {
        "id": "Lgh74cWBneKN"
      },
      "execution_count": null,
      "outputs": []
    },
    {
      "cell_type": "markdown",
      "source": [
        "### Loops\n",
        "Loops are my favorite tool for geospatial processing. I work with large geographical areas which means that the data is often split up into smaller areas. To be able to loop over these saves alot of time. A loop selects one item at a time from a list of items. Below is an example of a very basic for loop."
      ],
      "metadata": {
        "id": "0IOF2p8eEaUo"
      }
    },
    {
      "cell_type": "code",
      "source": [
        "for i in list_of_files:\n",
        "  print(i)"
      ],
      "metadata": {
        "id": "HUoh3IvBoVwt"
      },
      "execution_count": null,
      "outputs": []
    },
    {
      "cell_type": "markdown",
      "source": [
        "i is just a variable that represents an item in the list. It can be replaced something else. This might actually be a good idea to make the code easier to read for humans."
      ],
      "metadata": {
        "id": "W28iPO-KpaYT"
      }
    },
    {
      "cell_type": "code",
      "source": [
        "for dataset in list_of_files:\n",
        "  print(dataset)"
      ],
      "metadata": {
        "id": "WMhDs48mpga9"
      },
      "execution_count": null,
      "outputs": []
    },
    {
      "cell_type": "markdown",
      "source": [
        "### Conditional expressions\n",
        "You already touched a bit on conditional expressions above but it is essentially different types of \"if else\" statements which can be very usefull. For example, lets only loop over csv files in our list by adding an if statement. Note the extra : followed by an additional indentation. We will also add a piece of code in our loop where we combine the path to the directory of our files with the names. But only if they end with .csv"
      ],
      "metadata": {
        "id": "Iknn2aisGGy_"
      }
    },
    {
      "cell_type": "code",
      "source": [
        "for dataset in list_of_files:\n",
        "  if dataset.endswith('.csv'):\n",
        "    path_and_name = os.path.join('/content/sample_data', dataset)\n",
        "    print(path_and_name)"
      ],
      "metadata": {
        "id": "y2dnjWinqFAG"
      },
      "execution_count": null,
      "outputs": []
    },
    {
      "cell_type": "markdown",
      "source": [
        "### Task 2\n",
        "Use the len() command to see how many files there are in your list. Then make a list of files that ends with .json. If you don't have any .json files on your machine just pick a type of file that you do have for this part."
      ],
      "metadata": {
        "id": "s6CXxvUbqljM"
      }
    },
    {
      "cell_type": "markdown",
      "source": [
        "### Functions\n",
        "Functions provide a way to modularize code by encapsulating logic, which can be called multiple times within a program without repeating the same code. A function is defined with \"def\" followed by the name of the function and arguments passed to the function inside parentheses (or, if there are no arguments, just parentheses).\n",
        "\n",
        "Lets create a function that uses pandas to read the csv files in our list and prints the number of rows in each dataset."
      ],
      "metadata": {
        "id": "SWVwnPrBEaKG"
      }
    },
    {
      "cell_type": "code",
      "source": [
        "def row_counting_function(csvfile):\n",
        "  dataframe = pd.read_csv(csvfile)\n",
        "  print(len(dataframe))"
      ],
      "metadata": {
        "id": "kLQwqHeBrbHn"
      },
      "execution_count": null,
      "outputs": []
    },
    {
      "cell_type": "markdown",
      "source": [
        "On it's own the function wont do anything. It needs to be called by other code. To call a function use the name you gave it and the argument within (). In this case we will give it the combined path and name to our csv files."
      ],
      "metadata": {
        "id": "fzwmN2KNryxE"
      }
    },
    {
      "cell_type": "code",
      "source": [
        "for dataset in list_of_files:\n",
        "  if dataset.endswith('.csv'):\n",
        "    path_and_name = os.path.join('/content/sample_data', dataset)\n",
        "    row_counting_function(path_and_name)"
      ],
      "metadata": {
        "id": "I3eZCxUwsXPV"
      },
      "execution_count": null,
      "outputs": []
    },
    {
      "cell_type": "markdown",
      "source": [
        "Here is another example that squares a value with the ** command and then returns the result. Note that the return statement in a Python function is used to send a value back to the caller."
      ],
      "metadata": {
        "id": "19hcyiHWqhP-"
      }
    },
    {
      "cell_type": "code",
      "source": [
        "def calculate_square(number):\n",
        "    \"\"\"\n",
        "    This function takes a number as input and returns its square.\n",
        "    \"\"\"\n",
        "    square_result = number ** 2\n",
        "    return square_result"
      ],
      "metadata": {
        "id": "HhmSjLuakvQe"
      },
      "execution_count": null,
      "outputs": []
    },
    {
      "cell_type": "markdown",
      "source": [
        "Also note the commented section at the start of the function between the \"\"\" symbols. This is good practive to describe what the function does. This is important on large projects where future you will thank you.\n",
        "\n",
        "Now lets send a value to the function and print the returned value."
      ],
      "metadata": {
        "id": "bypGmBQJlByB"
      }
    },
    {
      "cell_type": "code",
      "source": [
        "input_number = 9\n",
        "result = calculate_square(input_number)\n",
        "\n",
        "print(calculate_square(5))"
      ],
      "metadata": {
        "id": "mB1dwlSBkgrg"
      },
      "execution_count": null,
      "outputs": []
    },
    {
      "cell_type": "markdown",
      "source": [
        "# Scripts\n",
        "A Python script is just a text document that ends with .py and contains some Python code. Python scripts are typically used for automating tasks, implementing algorithms, or creating programs that perform specific functions. One major difference from a jupyter notebook is that the code is always executed in the same way. In a notebook you can go back to previous cells and run them out of order. For more info about notebooks vs scripts you can listen to Joel Grus. He has opinions: https://www.youtube.com/watch?v=7jiPeIFXb6U&t=2584s"
      ],
      "metadata": {
        "id": "qyhpkwkyCA6I"
      }
    },
    {
      "cell_type": "markdown",
      "source": [
        "To create a pythonscript you need to create a new file, name it square.py. If you are working in google colab you can right click in the directory tree on the left and create a new file. Double click it to open it. Then copy the function that calculates squares into the python script along with the code to run the function on some value. Save and then locate the path to that script and run it using !python. This is very handy if you need to process a big dataset in the background while you do something else."
      ],
      "metadata": {
        "id": "Fpq33Fd8nnTD"
      }
    },
    {
      "cell_type": "code",
      "source": [
        "!python /content/square.py"
      ],
      "metadata": {
        "id": "cieHfuHjoeZR"
      },
      "execution_count": null,
      "outputs": []
    },
    {
      "cell_type": "markdown",
      "source": [
        "# Calling functions from other scripts\n",
        "In larger projects, you will end up with a lot of code, and it can be easier to handle and debug if you split up your code into smaller parts, especially if you use the functions many times in different parts of the code.\n",
        "\n",
        "Create a new script named square_small.py. Remove the line \"print(calculate_square(5))\" from the square script. Then import the calculate_square function from the square script using these two rows:\n",
        "\n",
        "**from square import calculate_square**\n",
        "\n",
        "**print(calculate_square(5))**\n",
        "\n",
        "Then run the square_small.py script with the terminal command.\n",
        "\n"
      ],
      "metadata": {
        "id": "tz6wMMsMHha9"
      }
    },
    {
      "cell_type": "code",
      "source": [
        "!python square_small.py"
      ],
      "metadata": {
        "id": "oyl7TE1MxxX1"
      },
      "execution_count": null,
      "outputs": []
    },
    {
      "cell_type": "markdown",
      "source": [
        "# Arguments\n",
        "In the previous example we have provided the script with hard coded file paths and values but if you want to reuse your code and make it more user friendly you can use the argsparse module. It is part of the standard library, and it simplifies the process of handling command-line input for your scripts or programs. Create a pythonscript named main.py and copy the code below into it."
      ],
      "metadata": {
        "id": "_mG0VLN2plFe"
      }
    },
    {
      "cell_type": "code",
      "source": [
        "import argparse\n",
        "\n",
        "parser = argparse.ArgumentParser(description='This script takes a number as input and outputs its squared value.')\n",
        "\n",
        "# Define a argument\n",
        "parser.add_argument('input_number', type=float, help='Provide the value that you need to square')\n",
        "\n",
        "# Parse the command-line arguments\n",
        "args = parser.parse_args()\n",
        "input_number = args.input_number\n",
        "\n",
        "def calculate_square(number):\n",
        "    \"\"\"\n",
        "    This function takes a number as input and returns its square.\n",
        "    \"\"\"\n",
        "    square_result = number ** 2\n",
        "    return square_result\n",
        "\n",
        "result = calculate_square(input_number)\n",
        "\n",
        "print(f\"The square of {input_number} is: {result}\")"
      ],
      "metadata": {
        "id": "m0Csa-Jcr-GE"
      },
      "execution_count": null,
      "outputs": []
    },
    {
      "cell_type": "markdown",
      "source": [
        "Run the script without giving it a number and it will tell you what it needs."
      ],
      "metadata": {
        "id": "istB_RIfupxR"
      }
    },
    {
      "cell_type": "code",
      "source": [
        "!python /content/main.py"
      ],
      "metadata": {
        "id": "W68N4zbnpOoA"
      },
      "execution_count": null,
      "outputs": []
    },
    {
      "cell_type": "markdown",
      "source": [
        "This basic argument is a positional argument and you can write the number right after the script name."
      ],
      "metadata": {
        "id": "75CFyXY1uodT"
      }
    },
    {
      "cell_type": "markdown",
      "source": [
        "### Task 3\n",
        "Write a function that takes a directory/folder as input and returns the number of .csv files (or another file type if you don't have a bunch of csv files). Put that function in a pythonscript and then write a second pythonscript (main.py) that imports that function from the first script. Finally add the directory path as an argument using argsparse."
      ],
      "metadata": {
        "id": "-Gbbn3A-l1jU"
      }
    },
    {
      "cell_type": "code",
      "source": [
        "!python /content/main.py 5"
      ],
      "metadata": {
        "id": "AzpDC_7Vsrf4"
      },
      "execution_count": null,
      "outputs": []
    },
    {
      "cell_type": "markdown",
      "source": [
        "# Copy new files from a server\n",
        "Lets say you are working at a ounty board where field personel are collecting UAV imagery almost every day. You are tasked with processing these images so you want to copy them to your own workstation every day. This can of course be done by navigating the file tree in windows and manually copying the new files. But you are a bit lazy and decide to write a Pythonscript to do it for you."
      ],
      "metadata": {
        "id": "-UfOzxtdXQHX"
      }
    },
    {
      "cell_type": "code",
      "source": [
        "import os\n",
        "import shutil\n",
        "import datetime\n",
        "import time\n",
        "import glob\n",
        "\n",
        "def copy_files(source_dir, destination_dir):\n",
        "  # Create a new directory but only if it does not already exist.\n",
        "  os.makedirs(destination_dir, exist_ok=True)\n",
        "  # Create a list of files in the destination directory\n",
        "  list_of_old_files = []\n",
        "  for file_name in os.listdir(destination_dir):\n",
        "    list_of_old_files.append(file_name)\n",
        "  # Get the list of files in the source directory\n",
        "  list_of_new_files = []\n",
        "  for file_name in os.listdir(source_dir):\n",
        "    if file_name not in list_of_old_files:\n",
        "      # merge paths with the file_names\n",
        "      source_file_path = os.path.join(source_dir, file_name)\n",
        "      destination_file_path = os.path.join(destination_dir, file_name)\n",
        "      # Finally copy files\n",
        "      shutil.copy(source_file_path, destination_file_path)\n",
        "      print(f\"Copied {file_name} to {destination_dir}\")\n",
        "\n",
        "# Run the backup function\n",
        "source_directory = '/content/sample_data' # Paths from google colab\n",
        "destination_directory = '/content/copied_files' # Paths from google colab\n",
        "copy_files(source_directory, destination_directory)\n"
      ],
      "metadata": {
        "colab": {
          "base_uri": "https://localhost:8080/"
        },
        "id": "hjENpjNOXr4T",
        "outputId": "a92ad9a6-b03a-4a15-ce47-bf48e0312f9d"
      },
      "execution_count": 3,
      "outputs": [
        {
          "output_type": "stream",
          "name": "stdout",
          "text": [
            "Copied README.md to /content/copied_files\n",
            "Copied anscombe.json to /content/copied_files\n",
            "Copied california_housing_train.csv to /content/copied_files\n",
            "Copied mnist_test.csv to /content/copied_files\n",
            "Copied mnist_train_small.csv to /content/copied_files\n",
            "Copied california_housing_test.csv to /content/copied_files\n"
          ]
        }
      ]
    },
    {
      "cell_type": "markdown",
      "source": [
        "This script checks for new file names and copies over the new files for you. Very nice. However you still need to run start this script and wait for it to finish every morning. Since you rather sleep for 10 more minutes in the morning you decide to have this script run in the background and download the data every night. This can be scheduled using the time and datetime modules."
      ],
      "metadata": {
        "id": "567Y4mGMdd_b"
      }
    },
    {
      "cell_type": "code",
      "source": [
        "!pip install schedule"
      ],
      "metadata": {
        "colab": {
          "base_uri": "https://localhost:8080/"
        },
        "id": "Dg4QTwKaexED",
        "outputId": "0748c515-b499-4896-c40f-5d0142a2a822"
      },
      "execution_count": 5,
      "outputs": [
        {
          "output_type": "stream",
          "name": "stdout",
          "text": [
            "Collecting schedule\n",
            "  Downloading schedule-1.2.1-py2.py3-none-any.whl (11 kB)\n",
            "Installing collected packages: schedule\n",
            "Successfully installed schedule-1.2.1\n"
          ]
        }
      ]
    },
    {
      "cell_type": "code",
      "source": [
        "import schedule\n",
        "import time\n",
        "import datetime\n",
        "\n",
        "def run_daily_job():\n",
        "    schedule.every().day.at(\"02:00\").do(lambda: copy_files(source_directory, destination_directory))\n",
        "    while True:\n",
        "        schedule.run_pending()\n",
        "        time.sleep(24 * 60 * 60)  # Sleep for 24 hours\n",
        "\n",
        "run_daily_job()"
      ],
      "metadata": {
        "id": "uamtUnK4eOPD"
      },
      "execution_count": null,
      "outputs": []
    },
    {
      "cell_type": "markdown",
      "source": [
        "Note that this is not optimal for backing up your data since it only copies new files. It does not update exciting files such as an edited wordfile."
      ],
      "metadata": {
        "id": "lzNG27hZgvqN"
      }
    },
    {
      "cell_type": "markdown",
      "source": [
        "### Task 4\n",
        "Change this function to run the backup once every minute instead of once every day."
      ],
      "metadata": {
        "id": "zv9vj1YWku96"
      }
    },
    {
      "cell_type": "markdown",
      "source": [
        "# Webscraping\n",
        "The web is full of usefull information and we can use python to parse it and find patterns. BeautifulSoup is one package that can parse text on websites. this can be used to search for specific words or phrases. In the example bellow we search for how many times \"research\" appears on the SLU webpage."
      ],
      "metadata": {
        "id": "YkxTnTyn7i6z"
      }
    },
    {
      "cell_type": "code",
      "source": [
        "from bs4 import BeautifulSoup\n",
        "import requests\n",
        "\n",
        "# Fetch the HTML content from a URL\n",
        "url = 'https://www.slu.se/en/'\n",
        "response = requests.get(url)\n",
        "html_content = response.text\n",
        "\n",
        "# Parse the HTML content with BeautifulSoup\n",
        "soup = BeautifulSoup(html_content, 'html.parser')\n",
        "\n",
        "# Extract information by navigating the HTML structure\n",
        "title = soup.title.text\n",
        "paragraphs = soup.find_all('p')\n",
        "\n",
        "# Search for a specific word or phrase\n",
        "search_term = 'research'\n",
        "occurrences = 0\n",
        "\n",
        "# Print the extracted information and count occurrences\n",
        "print(f'Title: {title}')\n",
        "for i, p in enumerate(paragraphs, 1):\n",
        "    paragraph_text = p.text\n",
        "    print(f'Paragraph {i}: {paragraph_text}')\n",
        "\n",
        "    # Check if the search term is present in the paragraph\n",
        "    if search_term.lower() in paragraph_text.lower():\n",
        "        occurrences += 1\n",
        "\n",
        "# Print the count of occurrences\n",
        "print(f'The word \"{search_term}\" appears {occurrences} times on the webpage.')\n"
      ],
      "metadata": {
        "id": "sKFBoaFl61Y0"
      },
      "execution_count": null,
      "outputs": []
    },
    {
      "cell_type": "markdown",
      "source": [
        "Python makes it easy to work with other types of data than text and numbers. This is an example of a function that downloads a youtube video. First install pytube"
      ],
      "metadata": {
        "id": "KBzb-0APsnpJ"
      }
    },
    {
      "cell_type": "markdown",
      "source": [
        "# Download videos from youtube"
      ],
      "metadata": {
        "id": "e1fjOfbH4JVR"
      }
    },
    {
      "cell_type": "code",
      "source": [
        "!pip install pytube"
      ],
      "metadata": {
        "id": "YMUuMInUs4xV"
      },
      "execution_count": null,
      "outputs": []
    },
    {
      "cell_type": "code",
      "source": [
        "# importing the module\n",
        "from pytube import YouTube\n",
        "\n",
        "def download_youtube_video(video_url, save_path=\".\"):\n",
        "  yt = YouTube(video_url)\n",
        "  video_stream = yt.streams.get_highest_resolution()\n",
        "  # Download the video to the specified path\n",
        "  video_stream.download(save_path)\n",
        "\n",
        "video_url = \"https://www.youtube.com/watch?v=eAlY_GXDM7M&t=5s\"\n",
        "download_youtube_video(video_url, save_path=\"/content/\")"
      ],
      "metadata": {
        "id": "q5VPu-zLs32k"
      },
      "execution_count": null,
      "outputs": []
    },
    {
      "cell_type": "markdown",
      "source": [
        "Capture some frames from the youtube video"
      ],
      "metadata": {
        "id": "jazulqecCLiq"
      }
    },
    {
      "cell_type": "code",
      "source": [
        "import cv2\n",
        "\n",
        "def extract_frames(video_path, output_folder):\n",
        "    # Open the video file\n",
        "    cap = cv2.VideoCapture(video_path)\n",
        "\n",
        "    # Get the frames per second (fps) and frame dimensions\n",
        "    fps = int(cap.get(cv2.CAP_PROP_FPS))\n",
        "    width = int(cap.get(cv2.CAP_PROP_FRAME_WIDTH))\n",
        "    height = int(cap.get(cv2.CAP_PROP_FRAME_HEIGHT))\n",
        "\n",
        "    # Create an output folder if it doesn't exist\n",
        "    import os\n",
        "    os.makedirs(output_folder, exist_ok=True)\n",
        "\n",
        "    # Read and save one frame per minute\n",
        "    frame_count = 0\n",
        "    while True:\n",
        "        ret, frame = cap.read()\n",
        "\n",
        "        if not ret:\n",
        "            break  # Break the loop if there are no more frames\n",
        "\n",
        "        # Save one frame every 30 seconds (if the video is in 60fps)\n",
        "        if frame_count % (30 * fps) == 0:\n",
        "            frame_filename = f\"{output_folder}/frame_{frame_count // (60 * fps):04d}.jpg\"\n",
        "            cv2.imwrite(frame_filename, frame)\n",
        "\n",
        "        frame_count += 1\n",
        "\n",
        "    # Release the video capture object\n",
        "    cap.release()\n",
        "\n",
        "# Example usage\n",
        "video_path = \"/content/Kort beskrivning av kartorna.mp4\"\n",
        "output_folder = \"frames_output3\"\n",
        "extract_frames(video_path, output_folder)\n",
        "\n"
      ],
      "metadata": {
        "id": "AlL6CPMr-uRK"
      },
      "execution_count": null,
      "outputs": []
    },
    {
      "cell_type": "markdown",
      "source": [
        "Plot some images from the downloaded youtube video"
      ],
      "metadata": {
        "id": "tFxX-IxICC1l"
      }
    },
    {
      "cell_type": "code",
      "source": [
        "import cv2\n",
        "import matplotlib.pyplot as plt\n",
        "import os\n",
        "\n",
        "\n",
        "\n",
        "# Plot some examples\n",
        "example_frames = [0, 1, 2]  # Adjust the frame numbers as needed\n",
        "\n",
        "for frame_number in example_frames:\n",
        "    frame_filename = f\"{output_folder}/frame_{frame_number:04d}.jpg\"\n",
        "    if os.path.exists(frame_filename):\n",
        "        # Read the frame using OpenCV\n",
        "        frame = cv2.imread(frame_filename)\n",
        "\n",
        "        # Convert from BGR to RGB (Matplotlib expects RGB)\n",
        "        frame = cv2.cvtColor(frame, cv2.COLOR_BGR2RGB)\n",
        "\n",
        "        # Plot the frame\n",
        "        plt.figure(figsize=(8, 8))\n",
        "        plt.imshow(frame)\n",
        "        plt.title(f\"Frame {frame_number}\")\n",
        "        plt.axis('off')\n",
        "        plt.show()\n",
        "    else:\n",
        "        print(f\"Frame {frame_number} not found.\")\n"
      ],
      "metadata": {
        "id": "weVv_Doz-6Iz"
      },
      "execution_count": null,
      "outputs": []
    },
    {
      "cell_type": "markdown",
      "source": [
        "### Task 5\n",
        "\n",
        "1. How many times is the word \"research\" mentioned on Umeå Universitys webpage?\n",
        "\n",
        "2. Download and plot images from a youtube video."
      ],
      "metadata": {
        "id": "6Ungf6F6HmI1"
      }
    },
    {
      "cell_type": "code",
      "source": [],
      "metadata": {
        "id": "zQwsRG6Bk7fx"
      },
      "execution_count": null,
      "outputs": []
    }
  ]
}