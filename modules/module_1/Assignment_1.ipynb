{
  "nbformat": 4,
  "nbformat_minor": 0,
  "metadata": {
    "colab": {
      "provenance": [],
      "gpuType": "A100",
      "authorship_tag": "ABX9TyOOzYRLK7L6pL8chfdbUhyQ",
      "include_colab_link": true
    },
    "kernelspec": {
      "name": "python3",
      "display_name": "Python 3"
    },
    "language_info": {
      "name": "python"
    },
    "accelerator": "GPU"
  },
  "cells": [
    {
      "cell_type": "markdown",
      "metadata": {
        "id": "view-in-github",
        "colab_type": "text"
      },
      "source": [
        "<a href=\"https://colab.research.google.com/github/williamlidberg/Analyses-of-Environmental-Data-2/blob/main/modules/module_1/Assignment_1.ipynb\" target=\"_parent\"><img src=\"https://colab.research.google.com/assets/colab-badge.svg\" alt=\"Open In Colab\"/></a>"
      ]
    },
    {
      "cell_type": "markdown",
      "source": [
        "# Check your hardware\n",
        "### Install the following python packages"
      ],
      "metadata": {
        "id": "VFKWoPJeedjv"
      }
    },
    {
      "cell_type": "code",
      "source": [
        "!pip install gputil\n",
        "!pip install GPUtil\n",
        "!pip install bench"
      ],
      "metadata": {
        "id": "jcUQf5vRgUnG"
      },
      "execution_count": null,
      "outputs": []
    },
    {
      "cell_type": "markdown",
      "source": [
        "### Central Processing Unit (CPU)\n",
        "Modern CPUs have multiple processing units called cores. Workflows that can be split into independed parts can be processed faster when spread across mutiple CPU-cores. This is called parallel processing and many of the packages we will use in this course is utilizing this under the hood.\n",
        "\n",
        "This code snipped will check the number of CPU cores on your system. Generally more cores is better but there might be a tradeoff between number och cores, price and the speed of individual cores.\n",
        "\n",
        "Since far from all geospatial tools are operating in parallel I recomend that you prioritize speed over numbers of cores."
      ],
      "metadata": {
        "id": "a32waKGWgXEj"
      }
    },
    {
      "cell_type": "code",
      "source": [
        "import psutil\n",
        "psutil.cpu_count(logical=True)"
      ],
      "metadata": {
        "id": "lD_iKqCvf5Ld"
      },
      "execution_count": null,
      "outputs": []
    },
    {
      "cell_type": "markdown",
      "source": [
        "This script uses a single CPU core and loops from 0 to 99,998 and appends these numbers to a string that has a separator. This is reapeted 1 000 times and it calculates how many seconds your computer needs to run it. Lowest number wins."
      ],
      "metadata": {
        "id": "M3ZqaM81k9CK"
      }
    },
    {
      "cell_type": "code",
      "source": [
        "import timeit\n",
        "int(round(timeit.timeit('\"|\".join(str(i) for i in range(99999))', number=1000), 0))"
      ],
      "metadata": {
        "id": "dTuwBe8-k_CI"
      },
      "execution_count": null,
      "outputs": []
    },
    {
      "cell_type": "markdown",
      "source": [
        "### Random-access memory (RAM)\n",
        "RAM is temporary storage and working space for the operating system and applications. The computer reads data of the harddrive (which is many times slower) into the RAM for processing. More RAM means that we can work with bigger datasets. A general rule of thumb (entierly made up by me) is to aim for at least 2 GB of RAM for each CPU core."
      ],
      "metadata": {
        "id": "OnE17lwneurR"
      }
    },
    {
      "cell_type": "code",
      "source": [
        "psutil.virtual_memory()"
      ],
      "metadata": {
        "id": "bNbDZrJffP4V"
      },
      "execution_count": null,
      "outputs": []
    },
    {
      "cell_type": "markdown",
      "source": [
        "This output is in bytes but you might be more familiar witb Gigabytes so lets convert it to something more readable. A bigger number is better."
      ],
      "metadata": {
        "id": "FpHXPK3DoOjv"
      }
    },
    {
      "cell_type": "code",
      "source": [
        "memory = psutil.virtual_memory().total / (1024.0 ** 3)\n",
        "print('Gigabytes of RAM', memory)"
      ],
      "metadata": {
        "id": "c0EJ8KM_jzf3"
      },
      "execution_count": null,
      "outputs": []
    },
    {
      "cell_type": "markdown",
      "source": [
        "### Graphics processing unit (GPU)\n",
        "GPUS are mostly used for gaming and to train deep learning models. The standard google colab runtime does not include a GPU but you can change to a GPU runtime by clicking the Runtime menu above and change runtime type.\n",
        "\n",
        "It is hard to give any good recomendations regarding GPUs since different packages support different GPUs. A very genereal recomendation is to aim for as much VRAM (memory on the GPU) that you can fit in your budget.\n",
        "\n",
        "\n",
        "If you do not have a GPU the code bellow will print []\n",
        "If you do have a GPU it will print [0] where 0 refers to the first GPU in the system."
      ],
      "metadata": {
        "id": "wcTRr3VuenV0"
      }
    },
    {
      "cell_type": "code",
      "source": [
        "import GPUtil\n",
        "GPUtil.getAvailable()\n"
      ],
      "metadata": {
        "id": "yK94JSA8eMif"
      },
      "execution_count": null,
      "outputs": []
    },
    {
      "cell_type": "code",
      "source": [
        "GPUtil.showUtilization()"
      ],
      "metadata": {
        "id": "dryg-na-5b41"
      },
      "execution_count": null,
      "outputs": []
    },
    {
      "cell_type": "markdown",
      "source": [
        "# Questions:\n",
        "You just started you new job where you need to process geospatial data. your boss is asking which computer they should order for you. What do you awnser?"
      ],
      "metadata": {
        "id": "ECPTKB0ui38K"
      }
    }
  ]
}